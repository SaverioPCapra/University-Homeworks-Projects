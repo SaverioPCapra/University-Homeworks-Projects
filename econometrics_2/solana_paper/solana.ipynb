{
 "cells": [
  {
   "cell_type": "code",
   "execution_count": 2,
   "metadata": {},
   "outputs": [],
   "source": [
    "import pandas as pd \n",
    "from datetime import datetime\n",
    "from datetime import timedelta\n",
    "import matplotlib.pyplot as plt\n",
    "\n",
    "import stumpy as smp"
   ]
  },
  {
   "cell_type": "markdown",
   "metadata": {},
   "source": [
    "The Solana time series data was sourced from [Coinmarketcap](https://coinmarketcap.com/it/currencies/solana/historical-data/)\n"
   ]
  },
  {
   "cell_type": "code",
   "execution_count": 17,
   "metadata": {},
   "outputs": [],
   "source": [
    "sol = pd.read_csv(\"solana_data.csv\", index_col=0, parse_dates=True, sep = \";\")\n",
    "sol = sol.sort_index()"
   ]
  },
  {
   "cell_type": "markdown",
   "metadata": {},
   "source": [
    "The data for the outages was sourced from [CryptoManiaks](https://cryptomaniaks.com/crypto-news/solana-outage-list-failures-sol-blockchain-mainnet)"
   ]
  },
  {
   "cell_type": "code",
   "execution_count": 18,
   "metadata": {},
   "outputs": [],
   "source": [
    "major_outages = [\"14-09-2021\", \"15-09-2021\",\n",
    "                 \"30-04-2022\", \"01-05-2022\",\n",
    "                 \"01-06-2022\", \"30-09-2022\",\n",
    "                 \"01-10-2022\", \"25-02-2023\",\n",
    "                 \"06-02-2024\"]\n",
    "\n",
    "partial_outages = [\"02-09-2021\", \"6-01-2022\",\n",
    "                   \"7-01-2022\", \"8-01-2022\",\n",
    "                   \"9-01-2022\", \"10-01-2022\",\n",
    "                   \"11-01-2022\", \"12-01-2022\",\n",
    "                   \"21-01-2022\", \"22-01-2022\"]"
   ]
  },
  {
   "cell_type": "code",
   "execution_count": 20,
   "metadata": {},
   "outputs": [],
   "source": [
    "major_outages_dt = []\n",
    "partial_outages_dt = []\n",
    "\n",
    "for date in major_outages:\n",
    "    major_outages_dt.append(datetime.strptime(date, \"%d-%m-%Y\"))\n",
    "\n",
    "for date in partial_outages:\n",
    "    partial_outages_dt.append(datetime.strptime(date, \"%d-%m-%Y\"))    "
   ]
  }
 ],
 "metadata": {
  "kernelspec": {
   "display_name": "base",
   "language": "python",
   "name": "python3"
  },
  "language_info": {
   "codemirror_mode": {
    "name": "ipython",
    "version": 3
   },
   "file_extension": ".py",
   "mimetype": "text/x-python",
   "name": "python",
   "nbconvert_exporter": "python",
   "pygments_lexer": "ipython3",
   "version": "3.11.4"
  }
 },
 "nbformat": 4,
 "nbformat_minor": 2
}
