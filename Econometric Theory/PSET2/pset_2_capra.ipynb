{
 "cells": [
  {
   "cell_type": "markdown",
   "metadata": {},
   "source": [
    "# PSET 2 - Econometric Theory - Saverio Pietro Capra"
   ]
  },
  {
   "cell_type": "code",
   "execution_count": 2,
   "metadata": {},
   "outputs": [],
   "source": [
    "# I import the Python modules (or libraries) that I'll need to solve the problems\n",
    "import pandas as pd\n",
    "import numpy as np\n",
    "import scipy.stats as stats\n",
    "import statsmodels.api as sm"
   ]
  },
  {
   "cell_type": "code",
   "execution_count": 3,
   "metadata": {},
   "outputs": [],
   "source": [
    "# I read the csv of the dataset and I assign it to a variable\n",
    "data = pd.read_csv(\"tracking.csv\")"
   ]
  },
  {
   "cell_type": "markdown",
   "metadata": {},
   "source": [
    "### Functions\n",
    "\n",
    "Here below you can see some functions that I've defined in order to make the code below look neater."
   ]
  },
  {
   "cell_type": "markdown",
   "metadata": {},
   "source": [
    "$$\\hat{ATE} = \\frac{1}{n_{1}} \\sum^{n}_{i=1} D_{i}y_{i}(1)- \\frac{1}{n-n_{1}} \\sum^{n}_{i=1} (1-D_{i})y_{i}(0)$$"
   ]
  },
  {
   "cell_type": "code",
   "execution_count": 11,
   "metadata": {},
   "outputs": [],
   "source": [
    "# I define a function to compute the difference between the mean of the treatment and non-treatment effect\n",
    "\n",
    "def ATE_estimator(df, col_name:str, variable_name:str):\n",
    "    \"\"\"\n",
    "    df -> dataframe which contains the data on which we want to estimate the ATE\n",
    "    col -> the column which indicates whether the unit received a treatment or not (1 if treatment, 0 if no treatment)\n",
    "    variable -> the variable with respect to which you want to compute the ATE, so the variable of interest\n",
    "    \"\"\"\n",
    "\n",
    "    treatment_mean = df[df[col_name]== 1][variable_name].mean()\n",
    "    non_treatment_mean = df[df[col_name]== 0][variable_name].mean()\n",
    "\n",
    "    ATE = treatment_mean - non_treatment_mean\n",
    "\n",
    "    return ATE"
   ]
  },
  {
   "cell_type": "markdown",
   "metadata": {},
   "source": [
    "## Exercise 1"
   ]
  },
  {
   "cell_type": "markdown",
   "metadata": {},
   "source": [
    "### Part 1"
   ]
  },
  {
   "cell_type": "markdown",
   "metadata": {},
   "source": [
    "Estimate the effect of tracking on students' end of first grade test scores"
   ]
  },
  {
   "cell_type": "code",
   "execution_count": 4,
   "metadata": {},
   "outputs": [],
   "source": [
    "# I group the data by schoolid and remove the column which says whether students were above or below the median, since I don't need it right now\n",
    "# I also calculate the mean scoreendfirstgrade for each school\n",
    "grouped_data = data[[\"tracking\", \"scoreendfirstgrade\", \"schoolid\"]].groupby([\"schoolid\"]).mean()"
   ]
  },
  {
   "cell_type": "code",
   "execution_count": 51,
   "metadata": {},
   "outputs": [
    {
     "data": {
      "text/plain": [
       "0.13391256466638107"
      ]
     },
     "execution_count": 51,
     "metadata": {},
     "output_type": "execute_result"
    }
   ],
   "source": [
    "# I estimate the ATE of tracking on student's end of first grade test scores\n",
    "ATE_estimation = ATE_estimator(grouped_data, \"tracking\", \"scoreendfirstgrade\")\n",
    "ATE_estimation"
   ]
  },
  {
   "cell_type": "markdown",
   "metadata": {},
   "source": [
    "From this simple estimate it seems that tracking has a positive effect on end of first grade scores"
   ]
  },
  {
   "cell_type": "markdown",
   "metadata": {},
   "source": [
    "### Part 2"
   ]
  },
  {
   "cell_type": "markdown",
   "metadata": {},
   "source": [
    "Use a 10% level randomization inference test to assess whether the finding of question 1\n",
    "is robust or whether it rests on an unappropriate asymptotic approximation. Conclude based\n",
    "on the result of this randomization test."
   ]
  },
  {
   "cell_type": "code",
   "execution_count": 96,
   "metadata": {},
   "outputs": [
    {
     "name": "stdout",
     "output_type": "stream",
     "text": [
      "The total numbe of schools involved in the study is 108\n",
      "Among these schools 60 were assigned the treatment, and 48 were not assigned the treatment\n"
     ]
    }
   ],
   "source": [
    "print(\"The total numbe of schools involved in the study is\",grouped_data.shape[0])\n",
    "\n",
    "treatment_schools = round(grouped_data[grouped_data[\"tracking\"]==1].sum()[0])\n",
    "no_treatment_schools = round(grouped_data[grouped_data[\"tracking\"]==0].count()[0])\n",
    "print(f\"Among these schools {treatment_schools} were assigned the treatment, and {no_treatment_schools} were not assigned the treatment\")"
   ]
  },
  {
   "cell_type": "code",
   "execution_count": 99,
   "metadata": {},
   "outputs": [
    {
     "name": "stdout",
     "output_type": "stream",
     "text": [
      "Critical values: (0.02307167081794145, 0.12241837502955495)\n",
      "Finding is robust at 10% level randomization inference\n"
     ]
    }
   ],
   "source": [
    "alpha = 10\n",
    "\n",
    "# Number of permutations that I will run to carry out the randomization inference\n",
    "num_permutations = 1000\n",
    "\n",
    "# Here I store the outcome of each simulation\n",
    "permutation_ATEs = []\n",
    "\n",
    "# This is a for-loop that repeats for 10000 times\n",
    "for i in range(num_permutations):\n",
    "    # Creates a permuted version of the DataFrame by randomly shuffling the rows without replacement\n",
    "    permuted_df = grouped_data.sample(frac=1, replace=False)\n",
    "\n",
    "    # I assign to this variable the number of units to which I will have to assign the treatment in the MC simulation (half the number of schools)\n",
    "    # n_treatment = round(permuted_df.shape[0]/2)\n",
    "    n_treatment = treatment_schools\n",
    "\n",
    "    # I assign to the first half of the rows in the permuted list the treatment, so the value treatment = 1\n",
    "    treatment_df = permuted_df.copy().iloc[:n_treatment]\n",
    "    treatment_df[\"scoreendfirstgrade\"] ==  1\n",
    "\n",
    "    no_treatment_df = permuted_df.copy().iloc[n_treatment:]\n",
    "    no_treatment_df[\"scoreendfirstgrade\"] = 0\n",
    " \n",
    "    complete_df = pd.concat([treatment_df, no_treatment_df], axis = 0)\n",
    "\n",
    "    permutation_ATE = ATE_estimator(complete_df, \"tracking\", \"scoreendfirstgrade\")\n",
    "\n",
    "    # I append to the list permutation_t_stats the t_test value that I got in the current MC trial\n",
    "    permutation_ATEs.append(permutation_ATE)\n",
    "\n",
    "# Determine critical value, which is the 10 percentile value of the permutation_t_stats list, which has all the t_stats of the MC simulations\n",
    "critical_value1 = np.percentile(permutation_ATEs, alpha)\n",
    "critical_value2 = np.percentile(permutation_ATEs, 100-alpha)\n",
    "\n",
    "print(\"Critical values:\", (critical_value1, critical_value2))\n",
    "\n",
    "# Compare observed statistic to critical value\n",
    "if abs(ATE_estimation) > critical_value1 and abs(ATE_estimation) > critical_value2:\n",
    "    print(\"Finding is robust at 10% level randomization inference\")\n",
    "else:\n",
    "    print(\"Finding is not robust at 10% level randomization inference\")"
   ]
  },
  {
   "cell_type": "markdown",
   "metadata": {},
   "source": [
    "### Part 3"
   ]
  },
  {
   "cell_type": "markdown",
   "metadata": {},
   "source": [
    "One might fear that tracking benefits strong students while harming weaker ones. Assess\n",
    "whether this is a legitimate concern using the dataset at hand."
   ]
  },
  {
   "cell_type": "code",
   "execution_count": 19,
   "metadata": {},
   "outputs": [
    {
     "name": "stdout",
     "output_type": "stream",
     "text": [
      "The difference in means between treated and non-treated for students BELOW the median is 0.13009291684380003\n",
      "The difference in means between treated and non-treated for students ABOVE the median is 0.14925006025040954\n"
     ]
    }
   ],
   "source": [
    "# First of all I try to compute a simple difference in means\n",
    "\n",
    "ATE_bottom_half = ATE_estimator(data[data[\"bottomhalf\"]==1], \"tracking\", \"scoreendfirstgrade\")\n",
    "print(\"The difference in means between treated and non-treated for students BELOW the median is\", ATE_bottom_half)\n",
    "\n",
    "ATE_upper_half = ATE_estimator(data[data[\"bottomhalf\"]==0], \"tracking\", \"scoreendfirstgrade\")\n",
    "print(\"The difference in means between treated and non-treated for students ABOVE the median is\", ATE_upper_half)"
   ]
  },
  {
   "cell_type": "markdown",
   "metadata": {},
   "source": [
    "The average treatment effect seems to have a positive effect in both cases (students below and above the mean)."
   ]
  },
  {
   "cell_type": "code",
   "execution_count": 57,
   "metadata": {},
   "outputs": [],
   "source": [
    "grouped_schools_wrtmedian = data.groupby([\"schoolid\",\"bottomhalf\"]).mean().reset_index()\n",
    "grouped_schools_wrtmedian = grouped_schools_wrtmedian.set_index(\"schoolid\")"
   ]
  },
  {
   "cell_type": "code",
   "execution_count": 60,
   "metadata": {},
   "outputs": [],
   "source": [
    "grouped_schools_bottomhalf = grouped_schools_wrtmedian[grouped_schools_wrtmedian[\"bottomhalf\"]==1]\n",
    "grouped_schools_upperhalf = grouped_schools_wrtmedian[grouped_schools_wrtmedian[\"bottomhalf\"]==0]\n"
   ]
  },
  {
   "cell_type": "code",
   "execution_count": 69,
   "metadata": {},
   "outputs": [],
   "source": [
    "model_bottomhalf = sm.OLS(grouped_schools_bottomhalf[\"scoreendfirstgrade\"], sm.add_constant(grouped_schools_bottomhalf[\"tracking\"])).fit()"
   ]
  },
  {
   "cell_type": "code",
   "execution_count": 70,
   "metadata": {},
   "outputs": [
    {
     "data": {
      "text/html": [
       "<table class=\"simpletable\">\n",
       "<caption>OLS Regression Results</caption>\n",
       "<tr>\n",
       "  <th>Dep. Variable:</th>    <td>scoreendfirstgrade</td> <th>  R-squared:         </th> <td>   0.031</td>\n",
       "</tr>\n",
       "<tr>\n",
       "  <th>Model:</th>                    <td>OLS</td>        <th>  Adj. R-squared:    </th> <td>   0.022</td>\n",
       "</tr>\n",
       "<tr>\n",
       "  <th>Method:</th>              <td>Least Squares</td>   <th>  F-statistic:       </th> <td>   3.429</td>\n",
       "</tr>\n",
       "<tr>\n",
       "  <th>Date:</th>              <td>Sun, 06 Oct 2024</td>  <th>  Prob (F-statistic):</th>  <td>0.0668</td> \n",
       "</tr>\n",
       "<tr>\n",
       "  <th>Time:</th>                  <td>13:22:16</td>      <th>  Log-Likelihood:    </th> <td> -53.205</td>\n",
       "</tr>\n",
       "<tr>\n",
       "  <th>No. Observations:</th>       <td>   108</td>       <th>  AIC:               </th> <td>   110.4</td>\n",
       "</tr>\n",
       "<tr>\n",
       "  <th>Df Residuals:</th>           <td>   106</td>       <th>  BIC:               </th> <td>   115.8</td>\n",
       "</tr>\n",
       "<tr>\n",
       "  <th>Df Model:</th>               <td>     1</td>       <th>                     </th>     <td> </td>   \n",
       "</tr>\n",
       "<tr>\n",
       "  <th>Covariance Type:</th>       <td>nonrobust</td>     <th>                     </th>     <td> </td>   \n",
       "</tr>\n",
       "</table>\n",
       "<table class=\"simpletable\">\n",
       "<tr>\n",
       "      <td></td>        <th>coef</th>     <th>std err</th>      <th>t</th>      <th>P>|t|</th>  <th>[0.025</th>    <th>0.975]</th>  \n",
       "</tr>\n",
       "<tr>\n",
       "  <th>const</th>    <td>   -0.4793</td> <td>    0.058</td> <td>   -8.308</td> <td> 0.000</td> <td>   -0.594</td> <td>   -0.365</td>\n",
       "</tr>\n",
       "<tr>\n",
       "  <th>tracking</th> <td>    0.1433</td> <td>    0.077</td> <td>    1.852</td> <td> 0.067</td> <td>   -0.010</td> <td>    0.297</td>\n",
       "</tr>\n",
       "</table>\n",
       "<table class=\"simpletable\">\n",
       "<tr>\n",
       "  <th>Omnibus:</th>       <td> 7.707</td> <th>  Durbin-Watson:     </th> <td>   1.574</td>\n",
       "</tr>\n",
       "<tr>\n",
       "  <th>Prob(Omnibus):</th> <td> 0.021</td> <th>  Jarque-Bera (JB):  </th> <td>   7.717</td>\n",
       "</tr>\n",
       "<tr>\n",
       "  <th>Skew:</th>          <td> 0.653</td> <th>  Prob(JB):          </th> <td>  0.0211</td>\n",
       "</tr>\n",
       "<tr>\n",
       "  <th>Kurtosis:</th>      <td> 3.097</td> <th>  Cond. No.          </th> <td>    2.77</td>\n",
       "</tr>\n",
       "</table><br/><br/>Notes:<br/>[1] Standard Errors assume that the covariance matrix of the errors is correctly specified."
      ],
      "text/latex": [
       "\\begin{center}\n",
       "\\begin{tabular}{lclc}\n",
       "\\toprule\n",
       "\\textbf{Dep. Variable:}    & scoreendfirstgrade & \\textbf{  R-squared:         } &     0.031   \\\\\n",
       "\\textbf{Model:}            &        OLS         & \\textbf{  Adj. R-squared:    } &     0.022   \\\\\n",
       "\\textbf{Method:}           &   Least Squares    & \\textbf{  F-statistic:       } &     3.429   \\\\\n",
       "\\textbf{Date:}             &  Sun, 06 Oct 2024  & \\textbf{  Prob (F-statistic):} &   0.0668    \\\\\n",
       "\\textbf{Time:}             &      13:22:16      & \\textbf{  Log-Likelihood:    } &   -53.205   \\\\\n",
       "\\textbf{No. Observations:} &          108       & \\textbf{  AIC:               } &     110.4   \\\\\n",
       "\\textbf{Df Residuals:}     &          106       & \\textbf{  BIC:               } &     115.8   \\\\\n",
       "\\textbf{Df Model:}         &            1       & \\textbf{                     } &             \\\\\n",
       "\\textbf{Covariance Type:}  &     nonrobust      & \\textbf{                     } &             \\\\\n",
       "\\bottomrule\n",
       "\\end{tabular}\n",
       "\\begin{tabular}{lcccccc}\n",
       "                  & \\textbf{coef} & \\textbf{std err} & \\textbf{t} & \\textbf{P$> |$t$|$} & \\textbf{[0.025} & \\textbf{0.975]}  \\\\\n",
       "\\midrule\n",
       "\\textbf{const}    &      -0.4793  &        0.058     &    -8.308  &         0.000        &       -0.594    &       -0.365     \\\\\n",
       "\\textbf{tracking} &       0.1433  &        0.077     &     1.852  &         0.067        &       -0.010    &        0.297     \\\\\n",
       "\\bottomrule\n",
       "\\end{tabular}\n",
       "\\begin{tabular}{lclc}\n",
       "\\textbf{Omnibus:}       &  7.707 & \\textbf{  Durbin-Watson:     } &    1.574  \\\\\n",
       "\\textbf{Prob(Omnibus):} &  0.021 & \\textbf{  Jarque-Bera (JB):  } &    7.717  \\\\\n",
       "\\textbf{Skew:}          &  0.653 & \\textbf{  Prob(JB):          } &   0.0211  \\\\\n",
       "\\textbf{Kurtosis:}      &  3.097 & \\textbf{  Cond. No.          } &     2.77  \\\\\n",
       "\\bottomrule\n",
       "\\end{tabular}\n",
       "%\\caption{OLS Regression Results}\n",
       "\\end{center}\n",
       "\n",
       "Notes: \\newline\n",
       " [1] Standard Errors assume that the covariance matrix of the errors is correctly specified."
      ],
      "text/plain": [
       "<class 'statsmodels.iolib.summary.Summary'>\n",
       "\"\"\"\n",
       "                            OLS Regression Results                            \n",
       "==============================================================================\n",
       "Dep. Variable:     scoreendfirstgrade   R-squared:                       0.031\n",
       "Model:                            OLS   Adj. R-squared:                  0.022\n",
       "Method:                 Least Squares   F-statistic:                     3.429\n",
       "Date:                Sun, 06 Oct 2024   Prob (F-statistic):             0.0668\n",
       "Time:                        13:22:16   Log-Likelihood:                -53.205\n",
       "No. Observations:                 108   AIC:                             110.4\n",
       "Df Residuals:                     106   BIC:                             115.8\n",
       "Df Model:                           1                                         \n",
       "Covariance Type:            nonrobust                                         \n",
       "==============================================================================\n",
       "                 coef    std err          t      P>|t|      [0.025      0.975]\n",
       "------------------------------------------------------------------------------\n",
       "const         -0.4793      0.058     -8.308      0.000      -0.594      -0.365\n",
       "tracking       0.1433      0.077      1.852      0.067      -0.010       0.297\n",
       "==============================================================================\n",
       "Omnibus:                        7.707   Durbin-Watson:                   1.574\n",
       "Prob(Omnibus):                  0.021   Jarque-Bera (JB):                7.717\n",
       "Skew:                           0.653   Prob(JB):                       0.0211\n",
       "Kurtosis:                       3.097   Cond. No.                         2.77\n",
       "==============================================================================\n",
       "\n",
       "Notes:\n",
       "[1] Standard Errors assume that the covariance matrix of the errors is correctly specified.\n",
       "\"\"\""
      ]
     },
     "execution_count": 70,
     "metadata": {},
     "output_type": "execute_result"
    }
   ],
   "source": [
    "model_bottomhalf.summary()"
   ]
  },
  {
   "cell_type": "code",
   "execution_count": 73,
   "metadata": {},
   "outputs": [],
   "source": [
    "model_upperhalf = sm.OLS(grouped_schools_upperhalf[\"scoreendfirstgrade\"], sm.add_constant(grouped_schools_upperhalf[\"tracking\"])).fit()"
   ]
  },
  {
   "cell_type": "code",
   "execution_count": 74,
   "metadata": {},
   "outputs": [
    {
     "data": {
      "text/html": [
       "<table class=\"simpletable\">\n",
       "<caption>OLS Regression Results</caption>\n",
       "<tr>\n",
       "  <th>Dep. Variable:</th>    <td>scoreendfirstgrade</td> <th>  R-squared:         </th> <td>   0.023</td>\n",
       "</tr>\n",
       "<tr>\n",
       "  <th>Model:</th>                    <td>OLS</td>        <th>  Adj. R-squared:    </th> <td>   0.014</td>\n",
       "</tr>\n",
       "<tr>\n",
       "  <th>Method:</th>              <td>Least Squares</td>   <th>  F-statistic:       </th> <td>   2.518</td>\n",
       "</tr>\n",
       "<tr>\n",
       "  <th>Date:</th>              <td>Sun, 06 Oct 2024</td>  <th>  Prob (F-statistic):</th>  <td> 0.116</td> \n",
       "</tr>\n",
       "<tr>\n",
       "  <th>Time:</th>                  <td>13:22:47</td>      <th>  Log-Likelihood:    </th> <td> -78.779</td>\n",
       "</tr>\n",
       "<tr>\n",
       "  <th>No. Observations:</th>       <td>   108</td>       <th>  AIC:               </th> <td>   161.6</td>\n",
       "</tr>\n",
       "<tr>\n",
       "  <th>Df Residuals:</th>           <td>   106</td>       <th>  BIC:               </th> <td>   166.9</td>\n",
       "</tr>\n",
       "<tr>\n",
       "  <th>Df Model:</th>               <td>     1</td>       <th>                     </th>     <td> </td>   \n",
       "</tr>\n",
       "<tr>\n",
       "  <th>Covariance Type:</th>       <td>nonrobust</td>     <th>                     </th>     <td> </td>   \n",
       "</tr>\n",
       "</table>\n",
       "<table class=\"simpletable\">\n",
       "<tr>\n",
       "      <td></td>        <th>coef</th>     <th>std err</th>      <th>t</th>      <th>P>|t|</th>  <th>[0.025</th>    <th>0.975]</th>  \n",
       "</tr>\n",
       "<tr>\n",
       "  <th>const</th>    <td>    0.3063</td> <td>    0.073</td> <td>    4.189</td> <td> 0.000</td> <td>    0.161</td> <td>    0.451</td>\n",
       "</tr>\n",
       "<tr>\n",
       "  <th>tracking</th> <td>    0.1556</td> <td>    0.098</td> <td>    1.587</td> <td> 0.116</td> <td>   -0.039</td> <td>    0.350</td>\n",
       "</tr>\n",
       "</table>\n",
       "<table class=\"simpletable\">\n",
       "<tr>\n",
       "  <th>Omnibus:</th>       <td> 1.585</td> <th>  Durbin-Watson:     </th> <td>   1.530</td>\n",
       "</tr>\n",
       "<tr>\n",
       "  <th>Prob(Omnibus):</th> <td> 0.453</td> <th>  Jarque-Bera (JB):  </th> <td>   1.508</td>\n",
       "</tr>\n",
       "<tr>\n",
       "  <th>Skew:</th>          <td> 0.184</td> <th>  Prob(JB):          </th> <td>   0.470</td>\n",
       "</tr>\n",
       "<tr>\n",
       "  <th>Kurtosis:</th>      <td> 2.553</td> <th>  Cond. No.          </th> <td>    2.77</td>\n",
       "</tr>\n",
       "</table><br/><br/>Notes:<br/>[1] Standard Errors assume that the covariance matrix of the errors is correctly specified."
      ],
      "text/latex": [
       "\\begin{center}\n",
       "\\begin{tabular}{lclc}\n",
       "\\toprule\n",
       "\\textbf{Dep. Variable:}    & scoreendfirstgrade & \\textbf{  R-squared:         } &     0.023   \\\\\n",
       "\\textbf{Model:}            &        OLS         & \\textbf{  Adj. R-squared:    } &     0.014   \\\\\n",
       "\\textbf{Method:}           &   Least Squares    & \\textbf{  F-statistic:       } &     2.518   \\\\\n",
       "\\textbf{Date:}             &  Sun, 06 Oct 2024  & \\textbf{  Prob (F-statistic):} &    0.116    \\\\\n",
       "\\textbf{Time:}             &      13:22:47      & \\textbf{  Log-Likelihood:    } &   -78.779   \\\\\n",
       "\\textbf{No. Observations:} &          108       & \\textbf{  AIC:               } &     161.6   \\\\\n",
       "\\textbf{Df Residuals:}     &          106       & \\textbf{  BIC:               } &     166.9   \\\\\n",
       "\\textbf{Df Model:}         &            1       & \\textbf{                     } &             \\\\\n",
       "\\textbf{Covariance Type:}  &     nonrobust      & \\textbf{                     } &             \\\\\n",
       "\\bottomrule\n",
       "\\end{tabular}\n",
       "\\begin{tabular}{lcccccc}\n",
       "                  & \\textbf{coef} & \\textbf{std err} & \\textbf{t} & \\textbf{P$> |$t$|$} & \\textbf{[0.025} & \\textbf{0.975]}  \\\\\n",
       "\\midrule\n",
       "\\textbf{const}    &       0.3063  &        0.073     &     4.189  &         0.000        &        0.161    &        0.451     \\\\\n",
       "\\textbf{tracking} &       0.1556  &        0.098     &     1.587  &         0.116        &       -0.039    &        0.350     \\\\\n",
       "\\bottomrule\n",
       "\\end{tabular}\n",
       "\\begin{tabular}{lclc}\n",
       "\\textbf{Omnibus:}       &  1.585 & \\textbf{  Durbin-Watson:     } &    1.530  \\\\\n",
       "\\textbf{Prob(Omnibus):} &  0.453 & \\textbf{  Jarque-Bera (JB):  } &    1.508  \\\\\n",
       "\\textbf{Skew:}          &  0.184 & \\textbf{  Prob(JB):          } &    0.470  \\\\\n",
       "\\textbf{Kurtosis:}      &  2.553 & \\textbf{  Cond. No.          } &     2.77  \\\\\n",
       "\\bottomrule\n",
       "\\end{tabular}\n",
       "%\\caption{OLS Regression Results}\n",
       "\\end{center}\n",
       "\n",
       "Notes: \\newline\n",
       " [1] Standard Errors assume that the covariance matrix of the errors is correctly specified."
      ],
      "text/plain": [
       "<class 'statsmodels.iolib.summary.Summary'>\n",
       "\"\"\"\n",
       "                            OLS Regression Results                            \n",
       "==============================================================================\n",
       "Dep. Variable:     scoreendfirstgrade   R-squared:                       0.023\n",
       "Model:                            OLS   Adj. R-squared:                  0.014\n",
       "Method:                 Least Squares   F-statistic:                     2.518\n",
       "Date:                Sun, 06 Oct 2024   Prob (F-statistic):              0.116\n",
       "Time:                        13:22:47   Log-Likelihood:                -78.779\n",
       "No. Observations:                 108   AIC:                             161.6\n",
       "Df Residuals:                     106   BIC:                             166.9\n",
       "Df Model:                           1                                         \n",
       "Covariance Type:            nonrobust                                         \n",
       "==============================================================================\n",
       "                 coef    std err          t      P>|t|      [0.025      0.975]\n",
       "------------------------------------------------------------------------------\n",
       "const          0.3063      0.073      4.189      0.000       0.161       0.451\n",
       "tracking       0.1556      0.098      1.587      0.116      -0.039       0.350\n",
       "==============================================================================\n",
       "Omnibus:                        1.585   Durbin-Watson:                   1.530\n",
       "Prob(Omnibus):                  0.453   Jarque-Bera (JB):                1.508\n",
       "Skew:                           0.184   Prob(JB):                        0.470\n",
       "Kurtosis:                       2.553   Cond. No.                         2.77\n",
       "==============================================================================\n",
       "\n",
       "Notes:\n",
       "[1] Standard Errors assume that the covariance matrix of the errors is correctly specified.\n",
       "\"\"\""
      ]
     },
     "execution_count": 74,
     "metadata": {},
     "output_type": "execute_result"
    }
   ],
   "source": [
    "model_upperhalf.summary()"
   ]
  },
  {
   "cell_type": "markdown",
   "metadata": {},
   "source": [
    "In both cases (for students originally below or above the median), it seems that tracking has a positive effect"
   ]
  },
  {
   "cell_type": "markdown",
   "metadata": {},
   "source": [
    "## Exercise 2"
   ]
  },
  {
   "cell_type": "markdown",
   "metadata": {},
   "source": [
    "### Part 1"
   ]
  },
  {
   "cell_type": "markdown",
   "metadata": {},
   "source": [
    "### Part 2"
   ]
  },
  {
   "cell_type": "code",
   "execution_count": 86,
   "metadata": {},
   "outputs": [],
   "source": [
    "obs = 1000\n",
    "V = np.random.normal(loc=0, scale=1, size=obs)\n",
    "\n",
    "y_0 = np.random.normal(loc=0, scale=1, size=obs)\n",
    "y_1 = 0.5*y_0+0.5*V+0.2"
   ]
  },
  {
   "cell_type": "markdown",
   "metadata": {},
   "source": [
    "Given the way we created `y_0` and `y_1` the treatment effect is heterogeneous across units, since `y_1 - y_0 = 0.5(V-y_0)+0.2`, where `V` and `y_0` are different for each unit."
   ]
  },
  {
   "cell_type": "code",
   "execution_count": 87,
   "metadata": {},
   "outputs": [
    {
     "name": "stdout",
     "output_type": "stream",
     "text": [
      "ATE_1000: 0.19773442938929975\n"
     ]
    }
   ],
   "source": [
    "ATE_1000 = np.mean(y_1-y_0)\n",
    "print(\"ATE_1000:\", ATE_1000)"
   ]
  },
  {
   "cell_type": "code",
   "execution_count": 91,
   "metadata": {},
   "outputs": [
    {
     "name": "stdout",
     "output_type": "stream",
     "text": [
      "The correlation coefficient is 0.6926758302401267\n",
      "The variance of (y_1-y_0) is 0.5096856397322104\n"
     ]
    }
   ],
   "source": [
    "# Correlation between y_0 and y_1\n",
    "corr_y0y1 = np.corrcoef(y_1, y_0)\n",
    "print(\"The correlation coefficient is\", corr_y0y1[0][1])\n",
    "\n",
    "# Variance between y_0  and y_1\n",
    "var_y0y1 = np.var(y_1-y_0)\n",
    "print(\"The variance of (y_1-y_0) is\", var_y0y1)"
   ]
  }
 ],
 "metadata": {
  "kernelspec": {
   "display_name": "Python 3",
   "language": "python",
   "name": "python3"
  },
  "language_info": {
   "codemirror_mode": {
    "name": "ipython",
    "version": 3
   },
   "file_extension": ".py",
   "mimetype": "text/x-python",
   "name": "python",
   "nbconvert_exporter": "python",
   "pygments_lexer": "ipython3",
   "version": "3.11.4"
  }
 },
 "nbformat": 4,
 "nbformat_minor": 2
}
